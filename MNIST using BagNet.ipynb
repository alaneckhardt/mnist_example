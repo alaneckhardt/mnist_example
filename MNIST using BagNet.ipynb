{
 "cells": [
  {
   "cell_type": "code",
   "execution_count": 1,
   "metadata": {},
   "outputs": [],
   "source": [
    "%matplotlib inline\n",
    "%reload_ext autoreload\n",
    "%autoreload 2"
   ]
  },
  {
   "cell_type": "code",
   "execution_count": 2,
   "metadata": {},
   "outputs": [],
   "source": [
    "# Usual imports\n",
    "import sys\n",
    "import collections\n",
    "import os\n",
    "\n",
    "import torch\n",
    "import torch.nn as nn\n",
    "import torch.nn.functional as F\n",
    "import torch.optim as optim\n",
    "from torch.optim.lr_scheduler import CyclicLR\n",
    "from torchvision import datasets, transforms\n",
    "\n",
    "import matplotlib.pyplot as plt"
   ]
  },
  {
   "cell_type": "code",
   "execution_count": 3,
   "metadata": {},
   "outputs": [],
   "source": [
    "# Training and loading data stolen and adapted from https://github.com/pytorch/examples/blob/master/mnist/main.py\n",
    "\n",
    "torch.manual_seed(42)\n",
    "use_cuda = torch.cuda.is_available()\n",
    "device = torch.device(\"cuda\" if use_cuda else \"cpu\")\n",
    "\n",
    "batch_size = 16\n",
    "\n",
    "# Load data using Pytorch datasets\n",
    "kwargs = {'num_workers': 1, 'pin_memory': True} if use_cuda else {}\n",
    "train_loader = torch.utils.data.DataLoader(\n",
    "    datasets.MNIST('./data', train=True, download=True,\n",
    "                   transform=transforms.Compose([\n",
    "                       transforms.ToTensor(),\n",
    "                       transforms.Normalize((0.1307,), (0.3081,))\n",
    "                   ])),\n",
    "    batch_size=batch_size, shuffle=True, **kwargs)\n",
    "test_loader = torch.utils.data.DataLoader(\n",
    "    datasets.MNIST('./data', train=False, transform=transforms.Compose([\n",
    "                       transforms.ToTensor(),\n",
    "                       transforms.Normalize((0.1307,), (0.3081,)),\n",
    "                       \n",
    "                   ])),\n",
    "    batch_size=batch_size, shuffle=True, **kwargs)\n",
    "\n",
    "# Log 5 times per epoch\n",
    "log_interval = len(train_loader)//5\n",
    "\n",
    "def train(model, device, train_loader, optimizer, scheduler, epoch):\n",
    "    \"\"\"\n",
    "    Training routing. Trains model for one epoch.\n",
    "    \"\"\"\n",
    "    # Set model to train.\n",
    "    model.train()\n",
    "    # Iterate over batches in loader\n",
    "    for batch_idx, (data, target) in enumerate(train_loader):\n",
    "        data, target = data.to(device), target.to(device)\n",
    "        optimizer.zero_grad()\n",
    "        output = model(data)\n",
    "        # Compute loss\n",
    "        loss = F.cross_entropy(output, target)\n",
    "        # Apply the gradients\n",
    "        loss.backward()\n",
    "        # Step optimizer and lr scheduler\n",
    "        optimizer.step()\n",
    "        scheduler.step()\n",
    "        # Log train loss\n",
    "        if batch_idx % log_interval == 0:\n",
    "            print('Train Epoch: {} [{}/{} ({:.0f}%)]\\tLoss: {:.6f}'.format(\n",
    "                epoch, batch_idx * len(data), len(train_loader.dataset),\n",
    "                100. * batch_idx / len(train_loader), loss.item()))\n",
    "\n",
    "def test(model, device, test_loader):\n",
    "    \"\"\"\n",
    "    Test routine. Evaluates model.\n",
    "    \"\"\"\n",
    "    # Set model to eval.\n",
    "    model.eval()\n",
    "    test_loss = 0\n",
    "    correct = 0\n",
    "    with torch.no_grad():\n",
    "        for data, target in test_loader:\n",
    "            data, target = data.to(device), target.to(device)\n",
    "            output = model(data)\n",
    "            # Sum all the losses.\n",
    "            test_loss += F.cross_entropy(output, target, reduction='sum').item()\n",
    "            # Find the predicted class.\n",
    "            pred = output.argmax(dim=1, keepdim=True)\n",
    "            # Get the number of correctly classified digits.\n",
    "            correct += pred.eq(target.view_as(pred)).sum().item()\n",
    "\n",
    "    test_loss /= len(test_loader.dataset)\n",
    "    # Compute desired number of misclassified examples.\n",
    "    incorrect = (len(test_loader.dataset) - correct)\n",
    "    print('\\nTest set: Average loss: {:.4f}, Error rate: {}/{} ({:.1f}%)\\n'.format(\n",
    "        test_loss, incorrect, len(test_loader.dataset),\n",
    "        100. * incorrect / len(test_loader.dataset)))\n"
   ]
  },
  {
   "cell_type": "code",
   "execution_count": 4,
   "metadata": {},
   "outputs": [],
   "source": [
    "# PatchesNet implemented according to https://openreview.net/pdf?id=SkfMWhAqYQ\n",
    "# Deliberately made model much simpler than author's implementation https://github.com/wielandbrendel/bag-of-local-features-models/\n",
    "\n",
    "class PatchesNet(nn.Module):\n",
    "    \"\"\"\n",
    "    Computes scores of each class for patches of images.\n",
    "    First it creates embedding of each pixel according to a very small neighbourhood.\n",
    "    Then a convolutional kernel is applied to each of the patches. We use stride=kernel size to isolate the patches.\n",
    "    Finally the linear layer is used to get scores of each class and these scores are log_softmaxed and averaged across patches.\n",
    "    \n",
    "    Using log_softmax instead of softmax is really important - softmax prevents network to learn anything.\n",
    "    \"\"\"\n",
    "    \n",
    "    def __init__(self, kernel_size=7, channels=[20,50], num_classes=10):\n",
    "        super(PatchesNet, self).__init__()\n",
    "        self.kernel_size = kernel_size\n",
    "        self.num_classes = num_classes\n",
    "        # Embed into vector size 20 using only closest neighbours.\n",
    "        self.conv1 = nn.Conv2d(1, channels[0], 3, 1, padding=1)\n",
    "        self.bn1 = nn.BatchNorm2d(channels[0])\n",
    "        # Patch embeddings\n",
    "        self.conv2 = nn.Conv2d(20, channels[1], kernel_size, kernel_size)\n",
    "        self.bn2 = nn.BatchNorm2d(channels[1])\n",
    "        # Patch classification\n",
    "        self.fc1 = nn.Linear(channels[1], num_classes)\n",
    "        \n",
    "        # Store intermediate results for debug\n",
    "        self.patches_scores = None\n",
    "\n",
    "    def forward(self, x):\n",
    "        \"\"\"\n",
    "        :param torch.Tensor x: Input batch of shape [batch_size, 28, 28]\n",
    "        :rtype: torch.Tensor \n",
    "        :return Logits of each class for the batch. Shape [batch_size, 10]\n",
    "        \"\"\"\n",
    "        # Embed pixels\n",
    "        x = F.relu(self.bn1(self.conv1(x)))\n",
    "        # Embed patches\n",
    "        x = F.relu(self.bn2(self.conv2(x)))\n",
    "        # Change dimensions so that the the channels are right after batch dimension.\n",
    "        x = F.relu(self.fc1(x.permute(0,2,3,1)))\n",
    "        # Squeeze the x and y dimensions. Shape is [batch_size,patches_num**2, num_classes]\n",
    "        x = x.view([batch_size,(28//self.kernel_size)**2, self.num_classes])\n",
    "\n",
    "        # Compute log_softmax of scores of patches.\n",
    "        x = F.log_softmax(x, dim=2)\n",
    "        # Store the resulting scores for debug later.\n",
    "        self.patches_scores = x\n",
    "        \n",
    "        # Average voting of each patch\n",
    "        return torch.mean(x, dim=1)\n",
    "    "
   ]
  },
  {
   "cell_type": "code",
   "execution_count": 7,
   "metadata": {},
   "outputs": [
    {
     "data": {
      "text/plain": [
       "torch.Size([16, 10])"
      ]
     },
     "execution_count": 7,
     "metadata": {},
     "output_type": "execute_result"
    }
   ],
   "source": [
    "# Set kernel size to 7 to get a reasonable amount of information to each patch\n",
    "kernel_size = 7\n",
    "\n",
    "model = PatchesNet(kernel_size=kernel_size).to(device)\n",
    "# Use SGD as optimizer\n",
    "optimizer = optim.SGD(model.parameters(), lr=0.02, momentum=0.5)\n",
    "# Employ cyclical learning rate, with base lr=0.08 and highest lr=0.08\n",
    "# Make it go up and down during one epoch\n",
    "scheduler = CyclicLR(optimizer, 0.02, 0.08, step_size_up=len(train_loader)/2)\n",
    "\n",
    "# Try that the output of the model is what we expect\n",
    "batch_x, batch_label = next(iter(train_loader))\n",
    "model(batch_x.cuda()).size()"
   ]
  },
  {
   "cell_type": "code",
   "execution_count": 8,
   "metadata": {},
   "outputs": [
    {
     "name": "stdout",
     "output_type": "stream",
     "text": [
      "Train Epoch: 1 [0/60000 (0%)]\tLoss: 2.282128\n",
      "Train Epoch: 1 [12000/60000 (20%)]\tLoss: 1.071261\n",
      "Train Epoch: 1 [24000/60000 (40%)]\tLoss: 0.333004\n",
      "Train Epoch: 1 [36000/60000 (60%)]\tLoss: 0.479862\n",
      "Train Epoch: 1 [48000/60000 (80%)]\tLoss: 0.211648\n",
      "\n",
      "Test set: Average loss: 0.1637, Error rate: 481/10000 (4.8%)\n",
      "\n",
      "Train Epoch: 2 [0/60000 (0%)]\tLoss: 0.019394\n",
      "Train Epoch: 2 [12000/60000 (20%)]\tLoss: 0.020468\n",
      "Train Epoch: 2 [24000/60000 (40%)]\tLoss: 0.441444\n",
      "Train Epoch: 2 [36000/60000 (60%)]\tLoss: 0.400497\n",
      "Train Epoch: 2 [48000/60000 (80%)]\tLoss: 0.042639\n",
      "\n",
      "Test set: Average loss: 0.1225, Error rate: 368/10000 (3.7%)\n",
      "\n",
      "Train Epoch: 3 [0/60000 (0%)]\tLoss: 0.247712\n",
      "Train Epoch: 3 [12000/60000 (20%)]\tLoss: 0.036874\n",
      "Train Epoch: 3 [24000/60000 (40%)]\tLoss: 0.153036\n",
      "Train Epoch: 3 [36000/60000 (60%)]\tLoss: 0.320944\n",
      "Train Epoch: 3 [48000/60000 (80%)]\tLoss: 0.020319\n",
      "\n",
      "Test set: Average loss: 0.1122, Error rate: 361/10000 (3.6%)\n",
      "\n",
      "Train Epoch: 4 [0/60000 (0%)]\tLoss: 0.041772\n",
      "Train Epoch: 4 [12000/60000 (20%)]\tLoss: 0.018261\n",
      "Train Epoch: 4 [24000/60000 (40%)]\tLoss: 0.079447\n",
      "Train Epoch: 4 [36000/60000 (60%)]\tLoss: 0.078599\n",
      "Train Epoch: 4 [48000/60000 (80%)]\tLoss: 0.090549\n",
      "\n",
      "Test set: Average loss: 0.1050, Error rate: 324/10000 (3.2%)\n",
      "\n"
     ]
    }
   ],
   "source": [
    "# Train for a couple of epochs, validate after each epoch \n",
    "for epoch in range(1, 5):\n",
    "    train(model, device, train_loader, optimizer, scheduler, epoch)\n",
    "    test(model, device, test_loader)\n"
   ]
  },
  {
   "cell_type": "code",
   "execution_count": 9,
   "metadata": {},
   "outputs": [],
   "source": [
    "# Let's inspect how the patches work.\n",
    "# We will plot the voting of each of the patches to see if it makes any sense.\n",
    "\n",
    "# Set the model to eval.\n",
    "model.eval()\n",
    "# Get some data\n",
    "batch_x, batch_label = next(iter(test_loader))\n",
    "# Model predictions\n",
    "model_pred = model(batch_x.cuda())\n",
    "# Upsample to get the original resolution\n",
    "up = nn.Upsample(scale_factor=kernel_size, mode='nearest')"
   ]
  },
  {
   "cell_type": "code",
   "execution_count": 10,
   "metadata": {},
   "outputs": [],
   "source": [
    "# Find an error\n",
    "idx = torch.argmax(batch_label.cuda() != torch.argmax(model_pred, dim=1))\n",
    "batch_label.cuda() != torch.argmax(model_pred, dim=1)\n",
    "# Or just choose and image from the batch\n",
    "idx = 1"
   ]
  },
  {
   "cell_type": "code",
   "execution_count": 11,
   "metadata": {},
   "outputs": [
    {
     "data": {
      "text/plain": [
       "<matplotlib.image.AxesImage at 0x7f424a9714a8>"
      ]
     },
     "execution_count": 11,
     "metadata": {},
     "output_type": "execute_result"
    },
    {
     "data": {
      "image/png": "[encoded data removed]",
      "text/plain": [
       "<Figure size 432x288 with 1 Axes>"
      ]
     },
     "metadata": {
      "needs_background": "light"
     },
     "output_type": "display_data"
    }
   ],
   "source": [
    "# Show the image\n",
    "plt.title(\"Model prediction {}, label is {}\".format(torch.argmax(model_pred[idx]), batch_label[idx]))\n",
    "plt.imshow(1-batch_x[idx].squeeze(), cmap='Greys')"
   ]
  },
  {
   "cell_type": "code",
   "execution_count": 15,
   "metadata": {},
   "outputs": [],
   "source": [
    "# Upsample the patches to get the same pixels as the original image\n",
    "patches = model.patches_scores[idx].view(1,28//kernel_size,28//kernel_size,10).permute(0,3,1,2)\n",
    "patches_big = up(patches).squeeze().permute(1,2,0)"
   ]
  },
  {
   "cell_type": "code",
   "execution_count": 16,
   "metadata": {},
   "outputs": [
    {
     "data": {
      "image/png": "[encoded data removed]",
      "text/plain": [
       "<Figure size 1440x1440 with 12 Axes>"
      ]
     },
     "metadata": {
      "needs_background": "light"
     },
     "output_type": "display_data"
    }
   ],
   "source": [
    "# Plot the voting of patches for each class\n",
    "plt.subplots(3,4, figsize=(20,20))\n",
    "img = batch_x[idx].squeeze()\n",
    "for i in range(10):\n",
    "    plt.subplot(3,4, i+1)\n",
    "    plt.title(str(i))\n",
    "    # Revert the log_softmax back to softmax and invert the mask\n",
    "    plt.imshow(1-torch.exp(patches_big[:,:,i]).detach().cpu(), cmap='Greys', alpha=0.8)\n",
    "    plt.imshow(img, alpha=0.4)\n",
    "plt.show()"
   ]
  },
  {
   "cell_type": "code",
   "execution_count": 17,
   "metadata": {},
   "outputs": [
    {
     "data": {
      "text/plain": [
       "tensor(3, device='cuda:0')"
      ]
     },
     "execution_count": 17,
     "metadata": {},
     "output_type": "execute_result"
    }
   ],
   "source": [
    "# Check that the results corresponds to real model output.\n",
    "torch.argmax(torch.mean(patches.squeeze().view(10,16),dim=1))"
   ]
  },
  {
   "cell_type": "code",
   "execution_count": null,
   "metadata": {},
   "outputs": [],
   "source": []
  }
 ],
 "metadata": {
  "kernelspec": {
   "display_name": "Python 3",
   "language": "python",
   "name": "python3"
  },
  "language_info": {
   "codemirror_mode": {
    "name": "ipython",
    "version": 3
   },
   "file_extension": ".py",
   "mimetype": "text/x-python",
   "name": "python",
   "nbconvert_exporter": "python",
   "pygments_lexer": "ipython3",
   "version": "3.6.8"
  }
 },
 "nbformat": 4,
 "nbformat_minor": 2
}
